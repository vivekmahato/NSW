{
 "cells": [
  {
   "cell_type": "code",
   "execution_count": 2,
   "metadata": {
    "pycharm": {
     "is_executing": false
    }
   },
   "outputs": [],
   "source": [
    "import numpy as np\n",
    "from sklearn.metrics import accuracy_score\n",
    "from NSW import NSW\n",
    "from sklearn.model_selection import train_test_split,GridSearchCV"
   ]
  },
  {
   "cell_type": "code",
   "execution_count": 4,
   "metadata": {
    "pycharm": {
     "is_executing": false
    }
   },
   "outputs": [],
   "source": [
    "data = np.load(\"data/plarge300.npy\",allow_pickle=True).item()\n",
    "X_train, X_test, y_train, y_test = train_test_split(data[\"X\"],data[\"y\"], test_size=0.5, random_state=1992)"
   ]
  },
  {
   "cell_type": "code",
   "execution_count": 5,
   "metadata": {
    "pycharm": {
     "is_executing": false
    }
   },
   "outputs": [
    {
     "data": {
      "text/plain": "{'f': array([3, 5, 7, 9]),\n 'm': array([ 3,  5,  7,  9, 11, 13, 15, 17, 19]),\n 'k': array([1, 3, 5, 7, 9])}"
     },
     "metadata": {},
     "output_type": "execute_result",
     "execution_count": 5
    }
   ],
   "source": [
    "param_dict = {\n",
    "    'f' : np.arange(3,11,2),\n",
    "    'm' : np.arange(3,21,2),\n",
    "    'k' : np.arange(1,10,2)\n",
    "}\n",
    "print(param_dict)"
   ]
  },
  {
   "cell_type": "code",
   "execution_count": 6,
   "metadata": {
    "pycharm": {
     "is_executing": false
    }
   },
   "outputs": [
    {
     "name": "stderr",
     "text": [
      "\r  0%|          | 0/150 [00:00<?, ?it/s]",
      "\r 33%|███▎      | 50/150 [00:00<00:00, 498.04it/s]",
      "\r 51%|█████▏    | 77/150 [00:00<00:00, 392.15it/s]",
      "\r 65%|██████▌   | 98/150 [00:00<00:00, 307.69it/s]",
      "\r 78%|███████▊  | 117/150 [00:00<00:00, 226.42it/s]",
      "\r 90%|█████████ | 135/150 [00:00<00:00, 197.29it/s]",
      "\r100%|██████████| 150/150 [00:00<00:00, 224.81it/s]",
      "\n"
     ],
     "output_type": "stream"
    },
    {
     "name": "stdout",
     "text": [
      "Model is fitted with the provided data.\n{'f': 3, 'k': 7, 'm': 17}\n0.82\n"
     ],
     "output_type": "stream"
    }
   ],
   "source": [
    "nsw = NSW()\n",
    "gscv = GridSearchCV(nsw, param_dict, cv=10, scoring=\"accuracy\", n_jobs=-1)\n",
    "gscv.fit(X_train, y_train)\n",
    "print(gscv.best_params_)\n",
    "print(gscv.best_score_)"
   ]
  },
  {
   "cell_type": "code",
   "execution_count": 7,
   "metadata": {
    "pycharm": {
     "is_executing": false
    }
   },
   "outputs": [
    {
     "name": "stdout",
     "text": [
      "Best Parameters:  {'f': 3, 'k': 7, 'm': 17}\nBest Accuracy:  0.82\n"
     ],
     "output_type": "stream"
    }
   ],
   "source": [
    "best_param = {'f': 3, 'k': 7, 'm': 17}\n",
    "best_score = 0.82\n",
    "print(\"Best Parameters: \", best_param)\n",
    "print(\"Best Accuracy: \", best_score)"
   ]
  },
  {
   "cell_type": "code",
   "execution_count": 8,
   "metadata": {
    "pycharm": {
     "is_executing": false
    }
   },
   "outputs": [
    {
     "name": "stderr",
     "text": [
      "\r  0%|          | 0/150 [00:00<?, ?it/s]",
      "\r 29%|██▊       | 43/150 [00:00<00:00, 425.54it/s]",
      "\r 49%|████▉     | 74/150 [00:00<00:00, 380.47it/s]",
      "\r 67%|██████▋   | 100/150 [00:00<00:00, 313.25it/s]",
      "\r 80%|████████  | 120/150 [00:00<00:00, 242.40it/s]",
      "\r 93%|█████████▎| 140/150 [00:00<00:00, 224.10it/s]",
      "\r100%|██████████| 150/150 [00:00<00:00, 238.86it/s]",
      "\n\r  0%|          | 0/151 [00:00<?, ?it/s]",
      "\r  9%|▊         | 13/151 [00:00<00:01, 122.89it/s]",
      "\r 19%|█▉        | 29/151 [00:00<00:00, 131.30it/s]",
      "\r 30%|███       | 46/151 [00:00<00:00, 139.36it/s]",
      "\r 38%|███▊      | 58/151 [00:00<00:00, 125.69it/s]",
      "\r 48%|████▊     | 73/151 [00:00<00:00, 130.25it/s]",
      "\r 60%|██████    | 91/151 [00:00<00:00, 141.69it/s]",
      "\r 70%|██████▉   | 105/151 [00:00<00:00, 140.63it/s]",
      "\r 79%|███████▉  | 119/151 [00:00<00:00, 128.04it/s]",
      "\r 89%|████████▉ | 135/151 [00:00<00:00, 135.27it/s]",
      "\r100%|██████████| 151/151 [00:01<00:00, 141.00it/s]",
      "\n"
     ],
     "output_type": "stream"
    },
    {
     "name": "stdout",
     "text": [
      "Model is fitted with the provided data.\n",
      "Model accuracy:  0.75\n"
     ],
     "output_type": "stream"
    }
   ],
   "source": [
    "nsw = NSW(**best_param)\n",
    "nsw.fit(X_train, y_train)\n",
    "y_hat = nsw.predict(X_test)\n",
    "acc = accuracy_score(y_test, y_hat)\n",
    "print(\"Model accuracy: \", round(acc, 2))"
   ]
  },
  {
   "cell_type": "code",
   "execution_count": null,
   "outputs": [],
   "source": [],
   "metadata": {
    "collapsed": false,
    "pycharm": {
     "name": "#%%\n"
    }
   }
  }
 ],
 "metadata": {
  "kernelspec": {
   "display_name": "Python 3",
   "language": "python",
   "name": "python3"
  },
  "language_info": {
   "codemirror_mode": {
    "name": "ipython",
    "version": 3
   },
   "file_extension": ".py",
   "mimetype": "text/x-python",
   "name": "python",
   "nbconvert_exporter": "python",
   "pygments_lexer": "ipython3",
   "version": "3.7.2"
  },
  "pycharm": {
   "stem_cell": {
    "cell_type": "raw",
    "source": [],
    "metadata": {
     "collapsed": false
    }
   }
  }
 },
 "nbformat": 4,
 "nbformat_minor": 1
}