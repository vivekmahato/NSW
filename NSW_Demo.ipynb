{
 "cells": [
  {
   "cell_type": "code",
   "execution_count": 2,
   "metadata": {
    "pycharm": {
     "is_executing": false
    }
   },
   "outputs": [],
   "source": [
    "import numpy as np\n",
    "from sklearn.metrics import accuracy_score\n",
    "from NSW import NSW\n",
    "from sklearn.model_selection import train_test_split,GridSearchCV"
   ]
  },
  {
   "cell_type": "code",
   "execution_count": 7,
   "metadata": {
    "pycharm": {
     "is_executing": false
    }
   },
   "outputs": [],
   "source": [
    "data = np.load(\"data/plarge300.npy\",allow_pickle=True).item()\n",
    "X_train, X_test, y_train, y_test = train_test_split(data[\"X\"],data[\"y\"], test_size=0.33, random_state=1992)"
   ]
  },
  {
   "cell_type": "code",
   "execution_count": 8,
   "metadata": {
    "pycharm": {
     "is_executing": false
    }
   },
   "outputs": [
    {
     "data": {
      "text/plain": "{'f': array([3, 5, 7, 9]),\n 'm': array([ 3,  5,  7,  9, 11, 13, 15, 17, 19]),\n 'k': array([1, 3, 5, 7, 9])}"
     },
     "metadata": {},
     "output_type": "execute_result",
     "execution_count": 8
    }
   ],
   "source": [
    "param_dict = {\n",
    "    'f' : np.arange(3,11,2),\n",
    "    'm' : np.arange(3,21,2),\n",
    "    'k' : np.arange(1,10,2)\n",
    "}\n",
    "param_dict"
   ]
  },
  {
   "cell_type": "code",
   "execution_count": 4,
   "metadata": {
    "pycharm": {
     "is_executing": false
    }
   },
   "outputs": [
    {
     "name": "stderr",
     "text": [
      "\r  0%|          | 0/150 [00:00<?, ?it/s]",
      "\r 31%|███▏      | 47/150 [00:00<00:00, 464.37it/s]",
      "\r 46%|████▌     | 69/150 [00:00<00:00, 341.02it/s]",
      "\r 59%|█████▊    | 88/150 [00:00<00:00, 274.23it/s]",
      "\r 71%|███████   | 106/150 [00:00<00:00, 235.09it/s]",
      "\r 83%|████████▎ | 124/150 [00:00<00:00, 197.39it/s]",
      "\r 94%|█████████▍| 141/150 [00:00<00:00, 178.90it/s]",
      "\r100%|██████████| 150/150 [00:00<00:00, 204.73it/s]",
      "\n"
     ],
     "output_type": "stream"
    },
    {
     "name": "stdout",
     "text": [
      "Model is fitted with the provided data.\n"
     ],
     "output_type": "stream"
    },
    {
     "data": {
      "text/plain": "GridSearchCV(cv=10, estimator=<NSW.NSW object at 0x7f97d61fb208>, n_jobs=-1,\n             param_grid={'f': array([3, 5, 7, 9]), 'k': array([1, 3, 5, 7, 9]),\n                         'm': array([ 3,  5,  7,  9, 11, 13, 15, 17, 19])},\n             scoring='accuracy')"
     },
     "metadata": {},
     "output_type": "execute_result",
     "execution_count": 4
    }
   ],
   "source": [
    "nsw = NSW()\n",
    "gscv = GridSearchCV(nsw, param_dict, cv=10, scoring=\"accuracy\", n_jobs=-1)\n",
    "gscv.fit(X_train, y_train)\n",
    "print(gscv.best_params_)\n",
    "print(gscv.best_score_)"
   ]
  },
  {
   "cell_type": "code",
   "execution_count": 5,
   "metadata": {
    "pycharm": {
     "is_executing": false
    }
   },
   "outputs": [
    {
     "name": "stdout",
     "text": [
      "Best Parameters:  {'f': 3, 'k': 1, 'm': 17}\nBest Accuracy:  0.7814285714285715\n"
     ],
     "output_type": "stream"
    }
   ],
   "source": [
    "best_param = {'f': 3, 'k': 1, 'm': 17}\n",
    "best_score = 0.7814285714285715\n",
    "print(\"Best Parameters: \", best_param)\n",
    "print(\"Best Accuracy: \", best_score)"
   ]
  },
  {
   "cell_type": "code",
   "execution_count": 11,
   "metadata": {
    "pycharm": {
     "is_executing": false
    }
   },
   "outputs": [
    {
     "name": "stderr",
     "text": [
      "\r  0%|          | 0/201 [00:00<?, ?it/s]",
      "\r 24%|██▍       | 49/201 [00:00<00:00, 484.59it/s]",
      "\r 35%|███▍      | 70/201 [00:00<00:00, 345.81it/s]",
      "\r 44%|████▍     | 88/201 [00:00<00:00, 269.54it/s]",
      "\r 55%|█████▌    | 111/201 [00:00<00:00, 253.74it/s]",
      "\r 65%|██████▌   | 131/201 [00:00<00:00, 232.12it/s]",
      "\r 75%|███████▍  | 150/201 [00:00<00:00, 191.54it/s]",
      "\r 84%|████████▎ | 168/201 [00:00<00:00, 167.76it/s]",
      "\r 92%|█████████▏| 184/201 [00:00<00:00, 154.67it/s]",
      "\r100%|█████████▉| 200/201 [00:01<00:00, 130.15it/s]",
      "\r100%|██████████| 201/201 [00:01<00:00, 184.68it/s]",
      "\n\r  0%|          | 0/100 [00:00<?, ?it/s]",
      "\r 12%|█▏        | 12/100 [00:00<00:00, 113.48it/s]",
      "\r 25%|██▌       | 25/100 [00:00<00:00, 115.74it/s]",
      "\r 34%|███▍      | 34/100 [00:00<00:00, 106.51it/s]",
      "\r 45%|████▌     | 45/100 [00:00<00:00, 106.19it/s]",
      "\r 57%|█████▋    | 57/100 [00:00<00:00, 108.19it/s]",
      "\r 67%|██████▋   | 67/100 [00:00<00:00, 103.88it/s]",
      "\r 78%|███████▊  | 78/100 [00:00<00:00, 104.75it/s]",
      "\r 90%|█████████ | 90/100 [00:00<00:00, 106.68it/s]",
      "\r100%|██████████| 100/100 [00:00<00:00, 106.39it/s]",
      "\n"
     ],
     "output_type": "stream"
    },
    {
     "name": "stdout",
     "text": [
      "Model is fitted with the provided data.\n",
      "Model accuracy:  0.58\n"
     ],
     "output_type": "stream"
    }
   ],
   "source": [
    "nsw = NSW(**best_param)\n",
    "nsw.fit(X_train, y_train)\n",
    "y_hat = nsw.predict(X_test)\n",
    "acc = accuracy_score(y_test, y_hat)\n",
    "print(\"Model accuracy: \", round(acc, 2))"
   ]
  },
  {
   "cell_type": "code",
   "execution_count": null,
   "outputs": [],
   "source": [
    "\n"
   ],
   "metadata": {
    "collapsed": false,
    "pycharm": {
     "name": "#%%\n"
    }
   }
  }
 ],
 "metadata": {
  "kernelspec": {
   "display_name": "Python 3",
   "language": "python",
   "name": "python3"
  },
  "language_info": {
   "codemirror_mode": {
    "name": "ipython",
    "version": 3
   },
   "file_extension": ".py",
   "mimetype": "text/x-python",
   "name": "python",
   "nbconvert_exporter": "python",
   "pygments_lexer": "ipython3",
   "version": "3.7.2"
  },
  "pycharm": {
   "stem_cell": {
    "cell_type": "raw",
    "source": [],
    "metadata": {
     "collapsed": false
    }
   }
  }
 },
 "nbformat": 4,
 "nbformat_minor": 1
}